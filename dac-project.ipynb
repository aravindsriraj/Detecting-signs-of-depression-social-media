{
 "cells": [
  {
   "cell_type": "code",
   "execution_count": 1,
   "metadata": {
    "_cell_guid": "b1076dfc-b9ad-4769-8c92-a6c4dae69d19",
    "_uuid": "8f2839f25d086af736a60e9eeb907d3b93b6e0e5",
    "execution": {
     "iopub.execute_input": "2022-02-22T05:15:19.891163Z",
     "iopub.status.busy": "2022-02-22T05:15:19.890558Z",
     "iopub.status.idle": "2022-02-22T05:15:19.907033Z",
     "shell.execute_reply": "2022-02-22T05:15:19.905686Z",
     "shell.execute_reply.started": "2022-02-22T05:15:19.891129Z"
    }
   },
   "outputs": [
    {
     "name": "stdout",
     "output_type": "stream",
     "text": [
      "cuda_malloc_async\n"
     ]
    }
   ],
   "source": [
    "import os\n",
    "os.environ['TF_GPU_ALLOCATOR'] = 'cuda_malloc_async'\n",
    "print(os.getenv('TF_GPU_ALLOCATOR'))"
   ]
  },
  {
   "cell_type": "code",
   "execution_count": 2,
   "metadata": {
    "execution": {
     "iopub.execute_input": "2022-02-22T05:15:19.910378Z",
     "iopub.status.busy": "2022-02-22T05:15:19.90975Z",
     "iopub.status.idle": "2022-02-22T05:15:19.918297Z",
     "shell.execute_reply": "2022-02-22T05:15:19.917155Z",
     "shell.execute_reply.started": "2022-02-22T05:15:19.910331Z"
    }
   },
   "outputs": [],
   "source": [
    "import numpy as np\n",
    "import pandas as pd\n",
    "from keras.layers import Dense, Input, LSTM, Bidirectional, Conv1D,GRU\n",
    "from keras.layers import Dropout, Embedding\n",
    "from keras.preprocessing import text, sequence\n",
    "from keras.layers import GlobalMaxPooling1D, GlobalAveragePooling1D, concatenate, SpatialDropout1D\n",
    "from keras.models import Model\n",
    "import numpy as np\n",
    "import pandas as pd"
   ]
  },
  {
   "cell_type": "code",
   "execution_count": 3,
   "metadata": {
    "execution": {
     "iopub.execute_input": "2022-02-22T05:15:19.920767Z",
     "iopub.status.busy": "2022-02-22T05:15:19.920238Z",
     "iopub.status.idle": "2022-02-22T05:15:20.118716Z",
     "shell.execute_reply": "2022-02-22T05:15:20.117804Z",
     "shell.execute_reply.started": "2022-02-22T05:15:19.920719Z"
    }
   },
   "outputs": [],
   "source": [
    "EMBEDDING_FILE = \"/mnt/c/Users/lokes/Downloads/glove.840B.300d.txt\"\n",
    "train = pd.read_csv(\"/mnt/c/Users/lokes/Downloads/train.tsv\",delimiter=\"\\t\").fillna(\" \")"
   ]
  },
  {
   "cell_type": "code",
   "execution_count": 4,
   "metadata": {
    "execution": {
     "iopub.execute_input": "2022-02-22T05:15:20.12312Z",
     "iopub.status.busy": "2022-02-22T05:15:20.120665Z",
     "iopub.status.idle": "2022-02-22T05:15:20.129179Z",
     "shell.execute_reply": "2022-02-22T05:15:20.127881Z",
     "shell.execute_reply.started": "2022-02-22T05:15:20.123073Z"
    }
   },
   "outputs": [],
   "source": [
    "max_features = 100000\n",
    "maxlen = 150\n",
    "embed_size=300"
   ]
  },
  {
   "cell_type": "code",
   "execution_count": 5,
   "metadata": {
    "execution": {
     "iopub.execute_input": "2022-02-22T05:15:20.135276Z",
     "iopub.status.busy": "2022-02-22T05:15:20.133319Z",
     "iopub.status.idle": "2022-02-22T05:15:20.154304Z",
     "shell.execute_reply": "2022-02-22T05:15:20.153313Z",
     "shell.execute_reply.started": "2022-02-22T05:15:20.135229Z"
    }
   },
   "outputs": [
    {
     "data": {
      "text/html": [
       "<div>\n",
       "<style scoped>\n",
       "    .dataframe tbody tr th:only-of-type {\n",
       "        vertical-align: middle;\n",
       "    }\n",
       "\n",
       "    .dataframe tbody tr th {\n",
       "        vertical-align: top;\n",
       "    }\n",
       "\n",
       "    .dataframe thead th {\n",
       "        text-align: right;\n",
       "    }\n",
       "</style>\n",
       "<table border=\"1\" class=\"dataframe\">\n",
       "  <thead>\n",
       "    <tr style=\"text-align: right;\">\n",
       "      <th></th>\n",
       "      <th>PID</th>\n",
       "      <th>Text_data</th>\n",
       "      <th>Label</th>\n",
       "    </tr>\n",
       "  </thead>\n",
       "  <tbody>\n",
       "    <tr>\n",
       "      <th>0</th>\n",
       "      <td>train_pid_1</td>\n",
       "      <td>Waiting for my mind to have a breakdown once t...</td>\n",
       "      <td>moderate</td>\n",
       "    </tr>\n",
       "    <tr>\n",
       "      <th>1</th>\n",
       "      <td>train_pid_2</td>\n",
       "      <td>My new years resolution : I'm gonna get my ass...</td>\n",
       "      <td>moderate</td>\n",
       "    </tr>\n",
       "    <tr>\n",
       "      <th>2</th>\n",
       "      <td>train_pid_3</td>\n",
       "      <td>New year : Somone else Feeling like 2020 will ...</td>\n",
       "      <td>moderate</td>\n",
       "    </tr>\n",
       "    <tr>\n",
       "      <th>3</th>\n",
       "      <td>train_pid_4</td>\n",
       "      <td>My story I guess : Hi, Im from Germany and my ...</td>\n",
       "      <td>moderate</td>\n",
       "    </tr>\n",
       "    <tr>\n",
       "      <th>4</th>\n",
       "      <td>train_pid_5</td>\n",
       "      <td>Sat in the dark and cried myself going into th...</td>\n",
       "      <td>moderate</td>\n",
       "    </tr>\n",
       "  </tbody>\n",
       "</table>\n",
       "</div>"
      ],
      "text/plain": [
       "           PID                                          Text_data     Label\n",
       "0  train_pid_1  Waiting for my mind to have a breakdown once t...  moderate\n",
       "1  train_pid_2  My new years resolution : I'm gonna get my ass...  moderate\n",
       "2  train_pid_3  New year : Somone else Feeling like 2020 will ...  moderate\n",
       "3  train_pid_4  My story I guess : Hi, Im from Germany and my ...  moderate\n",
       "4  train_pid_5  Sat in the dark and cried myself going into th...  moderate"
      ]
     },
     "execution_count": 5,
     "metadata": {},
     "output_type": "execute_result"
    }
   ],
   "source": [
    "train.head()"
   ]
  },
  {
   "cell_type": "code",
   "execution_count": 7,
   "metadata": {
    "execution": {
     "iopub.execute_input": "2022-02-22T05:15:20.157308Z",
     "iopub.status.busy": "2022-02-22T05:15:20.156444Z",
     "iopub.status.idle": "2022-02-22T05:15:20.172618Z",
     "shell.execute_reply": "2022-02-22T05:15:20.171571Z",
     "shell.execute_reply.started": "2022-02-22T05:15:20.157259Z"
    }
   },
   "outputs": [
    {
     "data": {
      "text/plain": [
       "moderate          6019\n",
       "not depression    1971\n",
       "severe             901\n",
       "Name: Label, dtype: int64"
      ]
     },
     "execution_count": 7,
     "metadata": {},
     "output_type": "execute_result"
    }
   ],
   "source": [
    "train[\"Label\"].value_counts()"
   ]
  },
  {
   "cell_type": "code",
   "execution_count": 8,
   "metadata": {
    "execution": {
     "iopub.execute_input": "2022-02-22T05:15:20.175741Z",
     "iopub.status.busy": "2022-02-22T05:15:20.174868Z",
     "iopub.status.idle": "2022-02-22T05:15:20.186871Z",
     "shell.execute_reply": "2022-02-22T05:15:20.185801Z",
     "shell.execute_reply.started": "2022-02-22T05:15:20.175692Z"
    }
   },
   "outputs": [],
   "source": [
    "from sklearn.preprocessing import LabelEncoder\n",
    "le = LabelEncoder()\n",
    "train[\"Label\"] = le.fit_transform(train[\"Label\"])"
   ]
  },
  {
   "cell_type": "code",
   "execution_count": 9,
   "metadata": {
    "execution": {
     "iopub.execute_input": "2022-02-22T05:15:20.190591Z",
     "iopub.status.busy": "2022-02-22T05:15:20.189585Z",
     "iopub.status.idle": "2022-02-22T05:15:20.203194Z",
     "shell.execute_reply": "2022-02-22T05:15:20.201933Z",
     "shell.execute_reply.started": "2022-02-22T05:15:20.190542Z"
    }
   },
   "outputs": [
    {
     "data": {
      "text/plain": [
       "0    6019\n",
       "1    1971\n",
       "2     901\n",
       "Name: Label, dtype: int64"
      ]
     },
     "execution_count": 9,
     "metadata": {},
     "output_type": "execute_result"
    }
   ],
   "source": [
    "train[\"Label\"].value_counts()"
   ]
  },
  {
   "cell_type": "code",
   "execution_count": 10,
   "metadata": {
    "execution": {
     "iopub.execute_input": "2022-02-22T05:15:20.206801Z",
     "iopub.status.busy": "2022-02-22T05:15:20.206443Z",
     "iopub.status.idle": "2022-02-22T05:15:20.222782Z",
     "shell.execute_reply": "2022-02-22T05:15:20.221616Z",
     "shell.execute_reply.started": "2022-02-22T05:15:20.206755Z"
    }
   },
   "outputs": [
    {
     "data": {
      "text/html": [
       "<div>\n",
       "<style scoped>\n",
       "    .dataframe tbody tr th:only-of-type {\n",
       "        vertical-align: middle;\n",
       "    }\n",
       "\n",
       "    .dataframe tbody tr th {\n",
       "        vertical-align: top;\n",
       "    }\n",
       "\n",
       "    .dataframe thead th {\n",
       "        text-align: right;\n",
       "    }\n",
       "</style>\n",
       "<table border=\"1\" class=\"dataframe\">\n",
       "  <thead>\n",
       "    <tr style=\"text-align: right;\">\n",
       "      <th></th>\n",
       "      <th>PID</th>\n",
       "      <th>Text_data</th>\n",
       "      <th>Label</th>\n",
       "    </tr>\n",
       "  </thead>\n",
       "  <tbody>\n",
       "    <tr>\n",
       "      <th>0</th>\n",
       "      <td>train_pid_1</td>\n",
       "      <td>Waiting for my mind to have a breakdown once t...</td>\n",
       "      <td>0</td>\n",
       "    </tr>\n",
       "    <tr>\n",
       "      <th>1</th>\n",
       "      <td>train_pid_2</td>\n",
       "      <td>My new years resolution : I'm gonna get my ass...</td>\n",
       "      <td>0</td>\n",
       "    </tr>\n",
       "    <tr>\n",
       "      <th>2</th>\n",
       "      <td>train_pid_3</td>\n",
       "      <td>New year : Somone else Feeling like 2020 will ...</td>\n",
       "      <td>0</td>\n",
       "    </tr>\n",
       "    <tr>\n",
       "      <th>3</th>\n",
       "      <td>train_pid_4</td>\n",
       "      <td>My story I guess : Hi, Im from Germany and my ...</td>\n",
       "      <td>0</td>\n",
       "    </tr>\n",
       "    <tr>\n",
       "      <th>4</th>\n",
       "      <td>train_pid_5</td>\n",
       "      <td>Sat in the dark and cried myself going into th...</td>\n",
       "      <td>0</td>\n",
       "    </tr>\n",
       "  </tbody>\n",
       "</table>\n",
       "</div>"
      ],
      "text/plain": [
       "           PID                                          Text_data  Label\n",
       "0  train_pid_1  Waiting for my mind to have a breakdown once t...      0\n",
       "1  train_pid_2  My new years resolution : I'm gonna get my ass...      0\n",
       "2  train_pid_3  New year : Somone else Feeling like 2020 will ...      0\n",
       "3  train_pid_4  My story I guess : Hi, Im from Germany and my ...      0\n",
       "4  train_pid_5  Sat in the dark and cried myself going into th...      0"
      ]
     },
     "execution_count": 10,
     "metadata": {},
     "output_type": "execute_result"
    }
   ],
   "source": [
    "train.head()"
   ]
  },
  {
   "cell_type": "code",
   "execution_count": 11,
   "metadata": {},
   "outputs": [
    {
     "name": "stdout",
     "output_type": "stream",
     "text": [
      "Moderate cases:  901\n",
      "Not Depressed cases:  901\n",
      "Severe cases:  901\n"
     ]
    }
   ],
   "source": [
    "df=train[0:901]\n",
    "df2=train[6019:6920]\n",
    "df3=train[7990:]\n",
    "\n",
    "df = df[['Text_data', 'Label']]\n",
    "df2 = df2[['Text_data', 'Label']]\n",
    "df3 = df3[['Text_data', 'Label']]\n",
    "\n",
    "print(\"Moderate cases: \", str(len(df)))\n",
    "print(\"Not Depressed cases: \", str(len(df2)))\n",
    "print(\"Severe cases: \", str(len(df3)))\n",
    "\n",
    "data = pd.concat([df, df2, df3], axis=0).reset_index(drop=True)"
   ]
  },
  {
   "cell_type": "code",
   "execution_count": 12,
   "metadata": {
    "execution": {
     "iopub.execute_input": "2022-02-22T05:27:49.062847Z",
     "iopub.status.busy": "2022-02-22T05:27:49.062539Z",
     "iopub.status.idle": "2022-02-22T05:27:49.090811Z",
     "shell.execute_reply": "2022-02-22T05:27:49.089655Z",
     "shell.execute_reply.started": "2022-02-22T05:27:49.062816Z"
    }
   },
   "outputs": [
    {
     "data": {
      "text/plain": [
       "(2703, 3)"
      ]
     },
     "execution_count": 12,
     "metadata": {},
     "output_type": "execute_result"
    }
   ],
   "source": [
    "train_x = data[\"Text_data\"].str.lower()\n",
    "train_y = data[\"Label\"]\n",
    "train_y = pd.get_dummies(train_y,columns=train_y).values\n",
    "train_y.shape"
   ]
  },
  {
   "cell_type": "code",
   "execution_count": 13,
   "metadata": {
    "execution": {
     "iopub.execute_input": "2022-02-22T05:15:20.2834Z",
     "iopub.status.busy": "2022-02-22T05:15:20.28228Z",
     "iopub.status.idle": "2022-02-22T05:15:20.30821Z",
     "shell.execute_reply": "2022-02-22T05:15:20.307067Z",
     "shell.execute_reply.started": "2022-02-22T05:15:20.283353Z"
    }
   },
   "outputs": [],
   "source": [
    "test_x =test[\"text data\"].str.lower()"
   ]
  },
  {
   "cell_type": "code",
   "execution_count": 14,
   "metadata": {
    "execution": {
     "iopub.execute_input": "2022-02-22T05:15:20.312218Z",
     "iopub.status.busy": "2022-02-22T05:15:20.31111Z",
     "iopub.status.idle": "2022-02-22T05:15:21.835039Z",
     "shell.execute_reply": "2022-02-22T05:15:21.833953Z",
     "shell.execute_reply.started": "2022-02-22T05:15:20.31217Z"
    }
   },
   "outputs": [],
   "source": [
    "tokenizer = text.Tokenizer(num_words=max_features,lower=True)\n",
    "tokenizer.fit_on_texts(list(train_x))"
   ]
  },
  {
   "cell_type": "code",
   "execution_count": 15,
   "metadata": {
    "execution": {
     "iopub.execute_input": "2022-02-22T05:15:21.837717Z",
     "iopub.status.busy": "2022-02-22T05:15:21.837426Z",
     "iopub.status.idle": "2022-02-22T05:15:23.424126Z",
     "shell.execute_reply": "2022-02-22T05:15:23.422946Z",
     "shell.execute_reply.started": "2022-02-22T05:15:21.837664Z"
    }
   },
   "outputs": [],
   "source": [
    "train_x = tokenizer.texts_to_sequences(train_x)\n",
    "test_x = tokenizer.texts_to_sequences(test_x)"
   ]
  },
  {
   "cell_type": "code",
   "execution_count": 16,
   "metadata": {
    "execution": {
     "iopub.execute_input": "2022-02-22T05:15:23.427079Z",
     "iopub.status.busy": "2022-02-22T05:15:23.425887Z",
     "iopub.status.idle": "2022-02-22T05:15:23.623325Z",
     "shell.execute_reply": "2022-02-22T05:15:23.622195Z",
     "shell.execute_reply.started": "2022-02-22T05:15:23.427024Z"
    }
   },
   "outputs": [],
   "source": [
    "train_x = sequence.pad_sequences(train_x,maxlen=maxlen)\n",
    "test_x = sequence.pad_sequences(test_x,maxlen=maxlen)"
   ]
  },
  {
   "cell_type": "code",
   "execution_count": 17,
   "metadata": {
    "execution": {
     "iopub.execute_input": "2022-02-22T05:15:23.628017Z",
     "iopub.status.busy": "2022-02-22T05:15:23.626753Z",
     "iopub.status.idle": "2022-02-22T05:18:47.07651Z",
     "shell.execute_reply": "2022-02-22T05:18:47.075522Z",
     "shell.execute_reply.started": "2022-02-22T05:15:23.627959Z"
    }
   },
   "outputs": [],
   "source": [
    "embedding_index = {}\n",
    "with open(EMBEDDING_FILE,encoding='utf8') as f:\n",
    "    for line in f:\n",
    "        values = line.strip().rsplit(\" \")\n",
    "        word = values[0]\n",
    "        coefs = np.asarray(values[1:],dtype='float32')\n",
    "        embedding_index[word] = coefs"
   ]
  },
  {
   "cell_type": "code",
   "execution_count": 18,
   "metadata": {
    "execution": {
     "iopub.execute_input": "2022-02-22T05:18:47.079536Z",
     "iopub.status.busy": "2022-02-22T05:18:47.079135Z",
     "iopub.status.idle": "2022-02-22T05:18:47.163073Z",
     "shell.execute_reply": "2022-02-22T05:18:47.16205Z",
     "shell.execute_reply.started": "2022-02-22T05:18:47.079493Z"
    }
   },
   "outputs": [],
   "source": [
    "word_index = tokenizer.word_index\n",
    "num_words = min(len(word_index)+1,max_features)\n",
    "embedding_matrix = np.zeros((num_words,embed_size))\n",
    "\n",
    "for word, i in word_index.items():\n",
    "    if i>=max_features:\n",
    "        continue\n",
    "    embedding_vector = embedding_index.get(word)\n",
    "    if embedding_vector is not None:\n",
    "        embedding_matrix[i] = embedding_vector"
   ]
  },
  {
   "cell_type": "markdown",
   "metadata": {},
   "source": [
    "# Basic N network"
   ]
  },
  {
   "cell_type": "code",
   "execution_count": 46,
   "metadata": {
    "execution": {
     "iopub.execute_input": "2022-02-22T05:26:26.21777Z",
     "iopub.status.busy": "2022-02-22T05:26:26.217433Z",
     "iopub.status.idle": "2022-02-22T05:26:26.671371Z",
     "shell.execute_reply": "2022-02-22T05:26:26.670356Z",
     "shell.execute_reply.started": "2022-02-22T05:26:26.217738Z"
    }
   },
   "outputs": [],
   "source": [
    "inp = Input(shape=(maxlen,))\n",
    "x = Embedding(num_words,embed_size,weights=[embedding_matrix])(inp)\n",
    "x = SpatialDropout1D(0.35)(x)\n",
    "x = Bidirectional(LSTM(128,return_sequences=True,dropout=0.15))(x)\n",
    "x = Conv1D(64,kernel_size=3,padding='valid',kernel_initializer='glorot_uniform')(x)\n",
    "\n",
    "avg_pool = GlobalAveragePooling1D()(x)\n",
    "max_pool = GlobalMaxPooling1D()(x)\n",
    "x = concatenate([avg_pool,max_pool])\n",
    "\n",
    "out = Dense(3,activation='softmax')(x)\n",
    "\n",
    "model = Model(inp,out)\n",
    "model.compile(loss='categorical_crossentropy',optimizer='adam',metrics=['accuracy'])"
   ]
  },
  {
   "cell_type": "code",
   "execution_count": 47,
   "metadata": {
    "execution": {
     "iopub.execute_input": "2022-02-22T05:27:53.072937Z",
     "iopub.status.busy": "2022-02-22T05:27:53.072102Z",
     "iopub.status.idle": "2022-02-22T05:27:53.707566Z",
     "shell.execute_reply": "2022-02-22T05:27:53.705975Z",
     "shell.execute_reply.started": "2022-02-22T05:27:53.072871Z"
    }
   },
   "outputs": [
    {
     "name": "stdout",
     "output_type": "stream",
     "text": [
      "Epoch 1/5\n",
      "85/85 [==============================] - 8s 62ms/step - loss: 0.8552 - accuracy: 0.5923\n",
      "Epoch 2/5\n",
      "85/85 [==============================] - 5s 61ms/step - loss: 0.4861 - accuracy: 0.8239\n",
      "Epoch 3/5\n",
      "85/85 [==============================] - 5s 60ms/step - loss: 0.2897 - accuracy: 0.9031\n",
      "Epoch 4/5\n",
      "85/85 [==============================] - 5s 59ms/step - loss: 0.1763 - accuracy: 0.9475\n",
      "Epoch 5/5\n",
      "85/85 [==============================] - 5s 62ms/step - loss: 0.1195 - accuracy: 0.9626\n"
     ]
    },
    {
     "data": {
      "text/plain": [
       "<keras.callbacks.History at 0x7fbcdfa90730>"
      ]
     },
     "execution_count": 47,
     "metadata": {},
     "output_type": "execute_result"
    }
   ],
   "source": [
    "batch_size = 32\n",
    "epochs = 1\n",
    "\n",
    "model.fit(train_x, train_y, batch_size=batch_size, epochs=5, verbose=1)"
   ]
  },
  {
   "cell_type": "code",
   "execution_count": 22,
   "metadata": {},
   "outputs": [
    {
     "name": "stdout",
     "output_type": "stream",
     "text": [
      "[[0.93639684 0.05198456 0.01161859]] moderate\n"
     ]
    }
   ],
   "source": [
    "new_complaint =['not feeling happy']\n",
    "seq = tokenizer.texts_to_sequences(new_complaint)\n",
    "padded = sequence.pad_sequences(seq, maxlen=maxlen, truncating='post', padding='post')\n",
    "pred = model.predict(padded)\n",
    "labels = ['moderate','not depression','severe']\n",
    "print(pred, labels[np.argmax(pred)])"
   ]
  }
 ],
 "metadata": {
  "kernelspec": {
   "display_name": "Python 3",
   "language": "python",
   "name": "python3"
  },
  "language_info": {
   "codemirror_mode": {
    "name": "ipython",
    "version": 3
   },
   "file_extension": ".py",
   "mimetype": "text/x-python",
   "name": "python",
   "nbconvert_exporter": "python",
   "pygments_lexer": "ipython3",
   "version": "3.9.0"
  }
 },
 "nbformat": 4,
 "nbformat_minor": 4
}
